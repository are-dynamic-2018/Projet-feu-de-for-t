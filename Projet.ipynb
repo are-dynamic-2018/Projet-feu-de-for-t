{
 "cells": [
  {
   "cell_type": "markdown",
   "metadata": {},
   "source": [
    "# # Projet sans vent"
   ]
  },
  {
   "cell_type": "code",
   "execution_count": 1,
   "metadata": {
    "collapsed": false
   },
   "outputs": [],
   "source": [
    "import numpy as np\n",
    "from random import *\n",
    "import matplotlib.pyplot as plt\n",
    "\n",
    "L = 20"
   ]
  },
  {
   "cell_type": "code",
   "execution_count": 2,
   "metadata": {
    "collapsed": false
   },
   "outputs": [
    {
     "name": "stdout",
     "output_type": "stream",
     "text": [
      "Voulez-vous choisir manuellement la direction et l intensité du vent? 1: manuellement     2: Automatiquement1\n",
      "Vous avez choisi le choix : 1\n"
     ]
    }
   ],
   "source": [
    "choix = input('Voulez-vous choisir manuellement la direction et l intensité du vent? 1: manuellement     2: Automatiquement')\n",
    "print('Vous avez choisi le choix :',choix)\n",
    "choix = int(choix)"
   ]
  },
  {
   "cell_type": "code",
   "execution_count": 3,
   "metadata": {
    "collapsed": false
   },
   "outputs": [
    {
     "name": "stdout",
     "output_type": "stream",
     "text": [
      "i_0 = ?0.5\n",
      "j_0 = ?1\n"
     ]
    }
   ],
   "source": [
    "if choix == 1:\n",
    "    x = input('i_0 = ?')\n",
    "    y = input('j_0 = ?')\n",
    "else:\n",
    "    liste1 = [0,0.1,0.2,0.3,0.4,0.5,0.6,0.7,0.8,0.9,1,1.1,1.2,1.3,1.4,1.5,1.6,1.7,1.8,1.9,2]\n",
    "    liste2 = liste1\n",
    "    x = choice(liste1)\n",
    "    y = choice(liste2)\n",
    "    print(x)\n",
    "    print(y)"
   ]
  },
  {
   "cell_type": "code",
   "execution_count": 4,
   "metadata": {
    "collapsed": true
   },
   "outputs": [],
   "source": [
    "Matrice  = np.zeros((L,L))\n",
    "(long,larg) = Matrice.shape"
   ]
  },
  {
   "cell_type": "code",
   "execution_count": 5,
   "metadata": {
    "collapsed": false
   },
   "outputs": [
    {
     "data": {
      "text/plain": [
       "array([[ 0.,  0.,  0.,  0.,  0.,  0.,  0.,  0.,  0.,  0.,  0.,  0.,  0.,\n",
       "         0.,  0.,  0.,  0.,  0.,  0.,  0.],\n",
       "       [ 0.,  0.,  0.,  0.,  0.,  0.,  0.,  0.,  0.,  0.,  0.,  0.,  0.,\n",
       "         0.,  0.,  0.,  0.,  0.,  0.,  0.],\n",
       "       [ 0.,  0.,  0.,  0.,  0.,  0.,  0.,  0.,  0.,  0.,  0.,  0.,  0.,\n",
       "         0.,  0.,  0.,  0.,  0.,  0.,  0.],\n",
       "       [ 0.,  0.,  0.,  0.,  0.,  0.,  0.,  0.,  0.,  0.,  0.,  0.,  0.,\n",
       "         0.,  0.,  0.,  0.,  0.,  0.,  0.],\n",
       "       [ 0.,  0.,  0.,  0.,  0.,  0.,  0.,  0.,  0.,  0.,  0.,  0.,  0.,\n",
       "         0.,  0.,  0.,  0.,  0.,  0.,  0.],\n",
       "       [ 0.,  0.,  0.,  0.,  0.,  0.,  0.,  0.,  0.,  0.,  0.,  0.,  0.,\n",
       "         0.,  0.,  0.,  0.,  0.,  0.,  0.],\n",
       "       [ 0.,  0.,  0.,  0.,  0.,  0.,  0.,  0.,  0.,  0.,  0.,  0.,  0.,\n",
       "         0.,  0.,  0.,  0.,  0.,  0.,  0.],\n",
       "       [ 0.,  0.,  0.,  0.,  0.,  0.,  0.,  0.,  0.,  0.,  0.,  0.,  0.,\n",
       "         0.,  0.,  0.,  0.,  0.,  0.,  0.],\n",
       "       [ 0.,  0.,  0.,  0.,  0.,  0.,  0.,  0.,  0.,  0.,  0.,  0.,  0.,\n",
       "         0.,  0.,  0.,  0.,  0.,  0.,  0.],\n",
       "       [ 0.,  0.,  0.,  0.,  0.,  0.,  0.,  0.,  0.,  0.,  0.,  0.,  0.,\n",
       "         0.,  0.,  0.,  0.,  0.,  0.,  0.],\n",
       "       [ 0.,  0.,  0.,  0.,  0.,  0.,  0.,  0.,  0.,  0.,  0.,  0.,  0.,\n",
       "         0.,  0.,  0.,  0.,  0.,  0.,  0.],\n",
       "       [ 0.,  0.,  0.,  0.,  0.,  0.,  0.,  0.,  0.,  0.,  0.,  0.,  0.,\n",
       "         0.,  0.,  0.,  0.,  0.,  0.,  0.],\n",
       "       [ 0.,  0.,  0.,  0.,  0.,  0.,  0.,  0.,  0.,  0.,  0.,  0.,  0.,\n",
       "         0.,  0.,  0.,  0.,  0.,  0.,  0.],\n",
       "       [ 0.,  0.,  0.,  0.,  0.,  0.,  0.,  0.,  0.,  0.,  0.,  0.,  0.,\n",
       "         0.,  0.,  0.,  0.,  0.,  0.,  0.],\n",
       "       [ 0.,  0.,  0.,  0.,  0.,  0.,  0.,  0.,  0.,  0.,  0.,  0.,  0.,\n",
       "         0.,  0.,  0.,  0.,  0.,  0.,  0.],\n",
       "       [ 0.,  0.,  0.,  0.,  0.,  0.,  0.,  0.,  0.,  0.,  0.,  0.,  0.,\n",
       "         0.,  0.,  0.,  0.,  0.,  0.,  0.],\n",
       "       [ 0.,  0.,  0.,  0.,  0.,  0.,  0.,  0.,  0.,  0.,  0.,  0.,  0.,\n",
       "         0.,  0.,  0.,  0.,  0.,  0.,  0.],\n",
       "       [ 0.,  0.,  0.,  0.,  0.,  0.,  0.,  0.,  0.,  0.,  0.,  0.,  0.,\n",
       "         0.,  0.,  0.,  0.,  0.,  0.,  0.],\n",
       "       [ 0.,  0.,  0.,  0.,  0.,  0.,  0.,  0.,  0.,  0.,  0.,  0.,  0.,\n",
       "         0.,  0.,  0.,  0.,  0.,  0.,  0.],\n",
       "       [ 0.,  0.,  0.,  0.,  0.,  0.,  0.,  0.,  0.,  0.,  0.,  0.,  0.,\n",
       "         0.,  0.,  0.,  0.,  0.,  0.,  0.]])"
      ]
     },
     "execution_count": 5,
     "metadata": {},
     "output_type": "execute_result"
    }
   ],
   "source": [
    "Matrice"
   ]
  },
  {
   "cell_type": "code",
   "execution_count": 6,
   "metadata": {
    "collapsed": true
   },
   "outputs": [],
   "source": [
    "def foyer():\n",
    "    i = randint(2,L-2)\n",
    "    j = randint(2,L-2)\n",
    "    Matrice[i,j] = Matrice[i,j] + 1\n",
    "    return (i, j)\n",
    "    print(i, j)\n",
    "    \n"
   ]
  },
  {
   "cell_type": "code",
   "execution_count": 7,
   "metadata": {
    "collapsed": true
   },
   "outputs": [],
   "source": [
    "i,j = foyer()"
   ]
  },
  {
   "cell_type": "code",
   "execution_count": 8,
   "metadata": {
    "collapsed": true
   },
   "outputs": [],
   "source": [
    "def case_neutre(Matrice,i,j):\n",
    "    for h in range(35):\n",
    "        i_ = randint(2,L-2)\n",
    "        j_ = randint(2,L-2)\n",
    "        if i != i_ and j!= j_ :\n",
    "            Matrice[i_,j_] = -1"
   ]
  },
  {
   "cell_type": "code",
   "execution_count": 9,
   "metadata": {
    "collapsed": false
   },
   "outputs": [
    {
     "data": {
      "image/png": "[encoded data removed]",
      "text/plain": [
       "<matplotlib.figure.Figure at 0x7f48d8e662e8>"
      ]
     },
     "metadata": {},
     "output_type": "display_data"
    }
   ],
   "source": [
    "def proba_feu(rayon, alpha=1.0):\n",
    "    p = 1.0 / ((1.0 + rayon) ** alpha)\n",
    "    return p\n",
    "    \n",
    "r_min = 0.0\n",
    "r_max = 2.0\n",
    "rayons = np.linspace(r_min, r_max, num=20)\n",
    "probas_feu = np.array([proba_feu(r) for r in rayons])\n",
    "\n",
    "plt.plot(rayons, probas_feu)\n",
    "plt.xlabel(\"rayon\")\n",
    "plt.ylabel(\"proba\")\n",
    "\n",
    "plt.show()\n",
    "\n",
    "\n",
    "\n",
    "def matrice_proba():\n",
    "    p = np.zeros((3, 3))\n",
    "    i_0, j_0 = x, y\n",
    "    # i_1, j_1 = ?, ?  # dépend de ventx venty\n",
    "    for i in range(0, 3):\n",
    "        for j in range(0, 3):\n",
    "            rayon = np.sqrt((i - i_0)**2 + (j - j_0)**2)\n",
    "            p[i, j] = proba_feu(rayon,alpha = 1.0)\n",
    "    return p\n"
   ]
  },
  {
   "cell_type": "code",
   "execution_count": null,
   "metadata": {
    "collapsed": true
   },
   "outputs": [],
   "source": []
  },
  {
   "cell_type": "code",
   "execution_count": 10,
   "metadata": {
    "collapsed": false
   },
   "outputs": [
    {
     "ename": "TypeError",
     "evalue": "unsupported operand type(s) for -: 'int' and 'str'",
     "output_type": "error",
     "traceback": [
      "\u001b[0;31m---------------------------------------------------------------------------\u001b[0m",
      "\u001b[0;31mTypeError\u001b[0m                                 Traceback (most recent call last)",
      "\u001b[0;32m<ipython-input-10-c7a0ec747118>\u001b[0m in \u001b[0;36m<module>\u001b[0;34m()\u001b[0m\n\u001b[0;32m----> 1\u001b[0;31m \u001b[0mp\u001b[0m \u001b[0;34m=\u001b[0m \u001b[0mmatrice_proba\u001b[0m\u001b[0;34m(\u001b[0m\u001b[0;34m)\u001b[0m\u001b[0;34m\u001b[0m\u001b[0m\n\u001b[0m\u001b[1;32m      2\u001b[0m \u001b[0mprint\u001b[0m\u001b[0;34m(\u001b[0m\u001b[0mp\u001b[0m\u001b[0;34m)\u001b[0m\u001b[0;34m\u001b[0m\u001b[0m\n",
      "\u001b[0;32m<ipython-input-9-1f8f6d29d7da>\u001b[0m in \u001b[0;36mmatrice_proba\u001b[0;34m()\u001b[0m\n\u001b[1;32m     22\u001b[0m     \u001b[0;32mfor\u001b[0m \u001b[0mi\u001b[0m \u001b[0;32min\u001b[0m \u001b[0mrange\u001b[0m\u001b[0;34m(\u001b[0m\u001b[0;36m0\u001b[0m\u001b[0;34m,\u001b[0m \u001b[0;36m3\u001b[0m\u001b[0;34m)\u001b[0m\u001b[0;34m:\u001b[0m\u001b[0;34m\u001b[0m\u001b[0m\n\u001b[1;32m     23\u001b[0m         \u001b[0;32mfor\u001b[0m \u001b[0mj\u001b[0m \u001b[0;32min\u001b[0m \u001b[0mrange\u001b[0m\u001b[0;34m(\u001b[0m\u001b[0;36m0\u001b[0m\u001b[0;34m,\u001b[0m \u001b[0;36m3\u001b[0m\u001b[0;34m)\u001b[0m\u001b[0;34m:\u001b[0m\u001b[0;34m\u001b[0m\u001b[0m\n\u001b[0;32m---> 24\u001b[0;31m             \u001b[0mrayon\u001b[0m \u001b[0;34m=\u001b[0m \u001b[0mnp\u001b[0m\u001b[0;34m.\u001b[0m\u001b[0msqrt\u001b[0m\u001b[0;34m(\u001b[0m\u001b[0;34m(\u001b[0m\u001b[0mi\u001b[0m \u001b[0;34m-\u001b[0m \u001b[0mi_0\u001b[0m\u001b[0;34m)\u001b[0m\u001b[0;34m**\u001b[0m\u001b[0;36m2\u001b[0m \u001b[0;34m+\u001b[0m \u001b[0;34m(\u001b[0m\u001b[0mj\u001b[0m \u001b[0;34m-\u001b[0m \u001b[0mj_0\u001b[0m\u001b[0;34m)\u001b[0m\u001b[0;34m**\u001b[0m\u001b[0;36m2\u001b[0m\u001b[0;34m)\u001b[0m\u001b[0;34m\u001b[0m\u001b[0m\n\u001b[0m\u001b[1;32m     25\u001b[0m             \u001b[0mp\u001b[0m\u001b[0;34m[\u001b[0m\u001b[0mi\u001b[0m\u001b[0;34m,\u001b[0m \u001b[0mj\u001b[0m\u001b[0;34m]\u001b[0m \u001b[0;34m=\u001b[0m \u001b[0mproba_feu\u001b[0m\u001b[0;34m(\u001b[0m\u001b[0mrayon\u001b[0m\u001b[0;34m,\u001b[0m\u001b[0malpha\u001b[0m \u001b[0;34m=\u001b[0m \u001b[0;36m1.0\u001b[0m\u001b[0;34m)\u001b[0m\u001b[0;34m\u001b[0m\u001b[0m\n\u001b[1;32m     26\u001b[0m     \u001b[0;32mreturn\u001b[0m \u001b[0mp\u001b[0m\u001b[0;34m\u001b[0m\u001b[0m\n",
      "\u001b[0;31mTypeError\u001b[0m: unsupported operand type(s) for -: 'int' and 'str'"
     ]
    }
   ],
   "source": [
    "p = matrice_proba()\n",
    "print(p)"
   ]
  },
  {
   "cell_type": "code",
   "execution_count": 11,
   "metadata": {
    "collapsed": true
   },
   "outputs": [],
   "source": [
    "def propa(ancienne_matrice,nouvelle_matrice,p,i,j):\n",
    "    nouvelle_matrice[i,j] = ancienne_matrice[i,j]  # Copier l'ancienne matrice dans la nouvelle\n",
    "    if nouvelle_matrice[i,j] == 1:  # i.e. elle est en feu\n",
    "        for di in [-1, 0 ,+1]:\n",
    "            for dj in [-1, 0,+1]:\n",
    "                if nouvelle_matrice[i+di,j+ dj] == 0: # si arbre sain\n",
    "                    x = np.random.binomial(1, p[di +1,dj +1])\n",
    "                    nouvelle_matrice[i+di,j+dj] = x\n",
    "    nouvelle_matrice[i,j] = nouvelle_matrice[i,j] + (1/2)                \n",
    "    return nouvelle_matrice"
   ]
  },
  {
   "cell_type": "code",
   "execution_count": null,
   "metadata": {
    "collapsed": true
   },
   "outputs": [],
   "source": []
  },
  {
   "cell_type": "code",
   "execution_count": null,
   "metadata": {
    "collapsed": true
   },
   "outputs": [],
   "source": [
    "def filter_proba(p):\n",
    "    p = p ** (T_ref/T)\n",
    "    return p"
   ]
  },
  {
   "cell_type": "code",
   "execution_count": null,
   "metadata": {
    "collapsed": true
   },
   "outputs": [],
   "source": [
    "def affiche_matrice(Matrice):\n",
    "    (n,m) = Matrice.shape\n",
    "    for i in range(2,n-1) :\n",
    "        for j in range(2,m-1) :\n",
    "            if Matrice[i,j] == 0 :\n",
    "                print(\"A\", end=\"\")\n",
    "            elif Matrice[i, j] >= 1 and Matrice[i, j] < 2 :\n",
    "                print(\"F\", end=\"\")\n",
    "            elif Matrice[i, j] >= 2 :\n",
    "                print(\".\", end=\"\")\n",
    "            elif Matrice[i,j] < 0 :\n",
    "                print(\" \",end=\"\")\n",
    "        print(\"\")        "
   ]
  },
  {
   "cell_type": "code",
   "execution_count": null,
   "metadata": {
    "collapsed": true
   },
   "outputs": [],
   "source": [
    "def next_step(Matrice):\n",
    "    new_mat = np.zeros((L,L))\n",
    "    for i in range(2,L-1):\n",
    "        for j in range(2,L-1): \n",
    "            propa(Matrice, new_mat,p ,i ,j)\n",
    "    return new_mat"
   ]
  },
  {
   "cell_type": "code",
   "execution_count": null,
   "metadata": {
    "collapsed": true
   },
   "outputs": [],
   "source": [
    "def matricenorm(ancienne_matrice,nouvelle_matrice,i,j) :\n",
    "    if ancienne_matrice[i,j] < 0:\n",
    "        nouvelle_matrice[i,j] = 0\n",
    "    elif 0 <= ancienne_matrice[i,j] < 1 :\n",
    "        nouvelle_matrice[i,j] = 1\n",
    "    elif 1 <= ancienne_matrice[i,j] < 2 :\n",
    "        nouvelle_matrice[i,j] = 2\n",
    "    elif ancienne_matrice[i,j] >= 2 :\n",
    "        nouvelle_matrice[i,j] = 3\n",
    "    return nouvelle_matrice    "
   ]
  },
  {
   "cell_type": "code",
   "execution_count": null,
   "metadata": {
    "collapsed": true
   },
   "outputs": [],
   "source": [
    "# ma"
   ]
  },
  {
   "cell_type": "code",
   "execution_count": null,
   "metadata": {
    "collapsed": false
   },
   "outputs": [],
   "source": [
    "Matrice  = np.zeros((L,L))\n",
    "(long,larg) = Matrice.shape\n",
    "i,j = foyer()\n",
    "case_neutre(Matrice,i,j)\n",
    "def simulation(Matrice):\n",
    "    nb_pas = 30\n",
    "    affiche_matrice(Matrice)\n",
    "    print(\"\")\n",
    "    for k in range (nb_pas):\n",
    "        Matrice = next_step(Matrice)\n",
    "        affiche_matrice(Matrice)\n",
    "        print(\"\")\n",
    "simulation(Matrice)  "
   ]
  },
  {
   "cell_type": "code",
   "execution_count": null,
   "metadata": {
    "collapsed": false
   },
   "outputs": [],
   "source": [
    "import numpy as np\n",
    "import matplotlib.pyplot as plt\n",
    "from matplotlib.colors import LinearSegmentedColormap\n",
    "\n",
    "\n",
    "# --- Colormaps from a list ---\n",
    "\n",
    "colors = ['red', 'blue', 'green','gray']  # R -> G -> B\n",
    "n_bins = [4]  # Discretizes the interpolation into bins\n",
    "cmap_name = 'ma_colormap'\n",
    "#\n",
    "size = np.array(Matrice.shape)\n",
    "dpi = 20\n",
    "figsize= size[1]/float(dpi),size[0]/float(dpi)\n",
    "fig = plt.figure(figsize = figsize, dpi = dpi, facecolor = \"white\")\n",
    "fig = plt.figure(facecolor = \"white\")\n",
    "fig.add_axes([0.0, 0.0, 1.0, 1.0], frameon = False)\n",
    "im=plt.imshow(Matrice, interpolation = 'nearest', cmap = LinearSegmentedColormap. from_list(cmap_name,colors,n_bins))\n",
    "# plt.xticks([]), plt.yticks([])\n",
    "#\n",
    "import matplotlib.animation as animation\n",
    "\n",
    "def update(*args):\n",
    "    simulation(Matrice)\n",
    "    im.set_array(Matrice)\n",
    "    return [im]\n",
    "\n",
    "ani = animation.FuncAnimation(fig, update, frames=range(20), interval=50)\n",
    "plt.show()\n"
   ]
  },
  {
   "cell_type": "code",
   "execution_count": null,
   "metadata": {
    "collapsed": true
   },
   "outputs": [],
   "source": [
    "def graph2 (Matrice, i, j):\n",
    "    \n",
    "    # on importe tout de matplotlib\n",
    "# numpy est accessible via l'alias 'np'\n",
    "    from pylab import *\n",
    "\n",
    "# on crée un graphique de 8x6 pouces \n",
    "# avec une résolution de 80 points par pouce\n",
    "    figure(figsize=(8,6), dpi=80)\n",
    "\n",
    "# on crée une nouvelle vue dans une grille de 1 ligne x 1 colonne\n",
    "    subplot(2,L-1,1)\n",
    "\n",
    "    X = (color = 'blue')\n",
    "    \n",
    "show()\n",
    "    \n",
    "    return"
   ]
  },
  {
   "cell_type": "code",
   "execution_count": null,
   "metadata": {
    "collapsed": true
   },
   "outputs": [],
   "source": [
    "graph2(Matrice,i,j)"
   ]
  },
  {
   "cell_type": "code",
   "execution_count": null,
   "metadata": {
    "collapsed": true
   },
   "outputs": [],
   "source": [
    "np.unique(Matrice)"
   ]
  },
  {
   "cell_type": "code",
   "execution_count": null,
   "metadata": {
    "collapsed": true
   },
   "outputs": [],
   "source": []
  },
  {
   "cell_type": "code",
   "execution_count": null,
   "metadata": {
    "collapsed": true
   },
   "outputs": [],
   "source": []
  },
  {
   "cell_type": "code",
   "execution_count": null,
   "metadata": {
    "collapsed": true
   },
   "outputs": [],
   "source": []
  },
  {
   "cell_type": "code",
   "execution_count": null,
   "metadata": {
    "collapsed": true
   },
   "outputs": [],
   "source": []
  },
  {
   "cell_type": "code",
   "execution_count": null,
   "metadata": {
    "collapsed": true
   },
   "outputs": [],
   "source": []
  },
  {
   "cell_type": "code",
   "execution_count": null,
   "metadata": {
    "collapsed": true
   },
   "outputs": [],
   "source": []
  }
 ],
 "metadata": {
  "kernelspec": {
   "display_name": "Python 3",
   "language": "python",
   "name": "python3"
  },
  "language_info": {
   "codemirror_mode": {
    "name": "ipython",
    "version": 3
   },
   "file_extension": ".py",
   "mimetype": "text/x-python",
   "name": "python",
   "nbconvert_exporter": "python",
   "pygments_lexer": "ipython3",
   "version": "3.4.2"
  }
 },
 "nbformat": 4,
 "nbformat_minor": 1
}
