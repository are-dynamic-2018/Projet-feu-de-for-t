{
 "cells": [
  {
   "cell_type": "code",
   "execution_count": null,
   "metadata": {
    "collapsed": true
   },
   "outputs": [],
   "source": [
    "import numpy as np\n",
    "from random import *\n",
    "import matplotlib.pyplot as plt\n",
    "\n",
    "L = 20"
   ]
  },
  {
   "cell_type": "code",
   "execution_count": null,
   "metadata": {
    "collapsed": false
   },
   "outputs": [],
   "source": [
    "choix = input('Voulez-vous choisir manuellement la direction et l intensité du vent? 1: manuellement     2: Automatiquement')\n",
    "print('Vous avez choisi le choix :',choix)\n",
    "choix = int(choix)"
   ]
  },
  {
   "cell_type": "code",
   "execution_count": null,
   "metadata": {
    "collapsed": false
   },
   "outputs": [],
   "source": [
    "if choix == 1:\n",
    "    x = input('i_0 = ?')\n",
    "    x = float(x)\n",
    "    y = input('j_0 = ?')\n",
    "    y = float(y)\n",
    "else:\n",
    "    liste1 = [0,0.1,0.2,0.3,0.4,0.5,0.6,0.7,0.8,0.9,1,1.1,1.2,1.3,1.4,1.5,1.6,1.7,1.8,1.9,2]\n",
    "    liste2 = liste1\n",
    "    x = choice(liste1)\n",
    "    y = choice(liste2)\n",
    "    print(x)\n",
    "    print(y)"
   ]
  },
  {
   "cell_type": "code",
   "execution_count": 5,
   "metadata": {
    "collapsed": true
   },
   "outputs": [],
   "source": [
    "Matrice  = np.zeros((L,L))\n",
    "(long,larg) = Matrice.shape"
   ]
  },
  {
   "cell_type": "code",
   "execution_count": 6,
   "metadata": {
    "collapsed": true
   },
   "outputs": [],
   "source": [
    "def foyer():\n",
    "    i = randint(2,L-2)\n",
    "    j = randint(2,L-2)\n",
    "    Matrice[i,j] = Matrice[i,j] + 2\n",
    "    return (i, j)\n",
    "    print(i, j)"
   ]
  },
  {
   "cell_type": "code",
   "execution_count": 7,
   "metadata": {
    "collapsed": true
   },
   "outputs": [],
   "source": [
    "i,j = foyer()"
   ]
  },
  {
   "cell_type": "code",
   "execution_count": 8,
   "metadata": {
    "collapsed": false
   },
   "outputs": [
    {
     "ename": "KeyboardInterrupt",
     "evalue": "",
     "output_type": "error",
     "traceback": [
      "\u001b[1;31m---------------------------------------------------------------------------\u001b[0m",
      "\u001b[1;31mKeyboardInterrupt\u001b[0m                         Traceback (most recent call last)",
      "\u001b[1;32m<ipython-input-8-d3001a4d9848>\u001b[0m in \u001b[0;36m<module>\u001b[1;34m()\u001b[0m\n\u001b[0;32m     12\u001b[0m \u001b[0mplt\u001b[0m\u001b[1;33m.\u001b[0m\u001b[0mylabel\u001b[0m\u001b[1;33m(\u001b[0m\u001b[1;34m\"proba\"\u001b[0m\u001b[1;33m)\u001b[0m\u001b[1;33m\u001b[0m\u001b[0m\n\u001b[0;32m     13\u001b[0m \u001b[1;33m\u001b[0m\u001b[0m\n\u001b[1;32m---> 14\u001b[1;33m \u001b[0mplt\u001b[0m\u001b[1;33m.\u001b[0m\u001b[0mshow\u001b[0m\u001b[1;33m(\u001b[0m\u001b[1;33m)\u001b[0m\u001b[1;33m\u001b[0m\u001b[0m\n\u001b[0m\u001b[0;32m     15\u001b[0m \u001b[1;33m\u001b[0m\u001b[0m\n\u001b[0;32m     16\u001b[0m \u001b[1;33m\u001b[0m\u001b[0m\n",
      "\u001b[1;32mC:\\Python34\\lib\\site-packages\\matplotlib\\pyplot.py\u001b[0m in \u001b[0;36mshow\u001b[1;34m(*args, **kw)\u001b[0m\n\u001b[0;32m    153\u001b[0m     \"\"\"\n\u001b[0;32m    154\u001b[0m     \u001b[1;32mglobal\u001b[0m \u001b[0m_show\u001b[0m\u001b[1;33m\u001b[0m\u001b[0m\n\u001b[1;32m--> 155\u001b[1;33m     \u001b[1;32mreturn\u001b[0m \u001b[0m_show\u001b[0m\u001b[1;33m(\u001b[0m\u001b[1;33m*\u001b[0m\u001b[0margs\u001b[0m\u001b[1;33m,\u001b[0m \u001b[1;33m**\u001b[0m\u001b[0mkw\u001b[0m\u001b[1;33m)\u001b[0m\u001b[1;33m\u001b[0m\u001b[0m\n\u001b[0m\u001b[0;32m    156\u001b[0m \u001b[1;33m\u001b[0m\u001b[0m\n\u001b[0;32m    157\u001b[0m \u001b[1;33m\u001b[0m\u001b[0m\n",
      "\u001b[1;32mC:\\Python34\\lib\\site-packages\\matplotlib\\backend_bases.py\u001b[0m in \u001b[0;36m__call__\u001b[1;34m(self, block)\u001b[0m\n\u001b[0;32m    182\u001b[0m \u001b[1;33m\u001b[0m\u001b[0m\n\u001b[0;32m    183\u001b[0m         \u001b[1;32mif\u001b[0m \u001b[1;32mnot\u001b[0m \u001b[0mis_interactive\u001b[0m\u001b[1;33m(\u001b[0m\u001b[1;33m)\u001b[0m \u001b[1;32mor\u001b[0m \u001b[0mget_backend\u001b[0m\u001b[1;33m(\u001b[0m\u001b[1;33m)\u001b[0m \u001b[1;33m==\u001b[0m \u001b[1;34m'WebAgg'\u001b[0m\u001b[1;33m:\u001b[0m\u001b[1;33m\u001b[0m\u001b[0m\n\u001b[1;32m--> 184\u001b[1;33m             \u001b[0mself\u001b[0m\u001b[1;33m.\u001b[0m\u001b[0mmainloop\u001b[0m\u001b[1;33m(\u001b[0m\u001b[1;33m)\u001b[0m\u001b[1;33m\u001b[0m\u001b[0m\n\u001b[0m\u001b[0;32m    185\u001b[0m \u001b[1;33m\u001b[0m\u001b[0m\n\u001b[0;32m    186\u001b[0m     \u001b[1;32mdef\u001b[0m \u001b[0mmainloop\u001b[0m\u001b[1;33m(\u001b[0m\u001b[0mself\u001b[0m\u001b[1;33m)\u001b[0m\u001b[1;33m:\u001b[0m\u001b[1;33m\u001b[0m\u001b[0m\n",
      "\u001b[1;32mC:\\Python34\\lib\\site-packages\\matplotlib\\backends\\backend_tkagg.py\u001b[0m in \u001b[0;36mmainloop\u001b[1;34m(self)\u001b[0m\n\u001b[0;32m     69\u001b[0m \u001b[1;32mclass\u001b[0m \u001b[0mShow\u001b[0m\u001b[1;33m(\u001b[0m\u001b[0mShowBase\u001b[0m\u001b[1;33m)\u001b[0m\u001b[1;33m:\u001b[0m\u001b[1;33m\u001b[0m\u001b[0m\n\u001b[0;32m     70\u001b[0m     \u001b[1;32mdef\u001b[0m \u001b[0mmainloop\u001b[0m\u001b[1;33m(\u001b[0m\u001b[0mself\u001b[0m\u001b[1;33m)\u001b[0m\u001b[1;33m:\u001b[0m\u001b[1;33m\u001b[0m\u001b[0m\n\u001b[1;32m---> 71\u001b[1;33m         \u001b[0mTk\u001b[0m\u001b[1;33m.\u001b[0m\u001b[0mmainloop\u001b[0m\u001b[1;33m(\u001b[0m\u001b[1;33m)\u001b[0m\u001b[1;33m\u001b[0m\u001b[0m\n\u001b[0m\u001b[0;32m     72\u001b[0m \u001b[1;33m\u001b[0m\u001b[0m\n\u001b[0;32m     73\u001b[0m \u001b[0mshow\u001b[0m \u001b[1;33m=\u001b[0m \u001b[0mShow\u001b[0m\u001b[1;33m(\u001b[0m\u001b[1;33m)\u001b[0m\u001b[1;33m\u001b[0m\u001b[0m\n",
      "\u001b[1;32mC:\\Python34\\lib\\tkinter\\__init__.py\u001b[0m in \u001b[0;36mmainloop\u001b[1;34m(n)\u001b[0m\n\u001b[0;32m    354\u001b[0m \u001b[1;32mdef\u001b[0m \u001b[0mmainloop\u001b[0m\u001b[1;33m(\u001b[0m\u001b[0mn\u001b[0m\u001b[1;33m=\u001b[0m\u001b[1;36m0\u001b[0m\u001b[1;33m)\u001b[0m\u001b[1;33m:\u001b[0m\u001b[1;33m\u001b[0m\u001b[0m\n\u001b[0;32m    355\u001b[0m     \u001b[1;34m\"\"\"Run the main loop of Tcl.\"\"\"\u001b[0m\u001b[1;33m\u001b[0m\u001b[0m\n\u001b[1;32m--> 356\u001b[1;33m     \u001b[0m_default_root\u001b[0m\u001b[1;33m.\u001b[0m\u001b[0mtk\u001b[0m\u001b[1;33m.\u001b[0m\u001b[0mmainloop\u001b[0m\u001b[1;33m(\u001b[0m\u001b[0mn\u001b[0m\u001b[1;33m)\u001b[0m\u001b[1;33m\u001b[0m\u001b[0m\n\u001b[0m\u001b[0;32m    357\u001b[0m \u001b[1;33m\u001b[0m\u001b[0m\n\u001b[0;32m    358\u001b[0m \u001b[0mgetint\u001b[0m \u001b[1;33m=\u001b[0m \u001b[0mint\u001b[0m\u001b[1;33m\u001b[0m\u001b[0m\n",
      "\u001b[1;31mKeyboardInterrupt\u001b[0m: "
     ]
    }
   ],
   "source": [
    "def proba_feu(rayon, alpha=1.0):\n",
    "    p = 1.0 / ((1.0 + rayon) ** alpha)\n",
    "    return p\n",
    "    \n",
    "r_min = 0.0\n",
    "r_max = 2.0\n",
    "rayons = np.linspace(r_min, r_max, num=20)\n",
    "probas_feu = np.array([proba_feu(r) for r in rayons])\n",
    "\n",
    "plt.plot(rayons, probas_feu)\n",
    "plt.xlabel(\"rayon\")\n",
    "plt.ylabel(\"proba\")\n",
    "\n",
    "plt.show()\n",
    "\n",
    "\n",
    "\n",
    "def matrice_proba():\n",
    "    p = np.zeros((3, 3))\n",
    "    i_0, j_0 = x, y\n",
    "    # i_1, j_1 = ?, ?  # dépend de ventx venty\n",
    "    for i in range(0, 3):\n",
    "        for j in range(0, 3):\n",
    "            rayon = np.sqrt((i - i_0)**2 + (j - j_0)**2)\n",
    "            p[i, j] = proba_feu(rayon,alpha = 1.0)\n",
    "    return p"
   ]
  },
  {
   "cell_type": "code",
   "execution_count": null,
   "metadata": {
    "collapsed": true
   },
   "outputs": [],
   "source": [
    "p = matrice_proba()\n",
    "print(p)"
   ]
  },
  {
   "cell_type": "code",
   "execution_count": null,
   "metadata": {
    "collapsed": true
   },
   "outputs": [],
   "source": [
    "def is_in_fire(cell):\n",
    "    return 2 <= cell < 3"
   ]
  },
  {
   "cell_type": "code",
   "execution_count": null,
   "metadata": {
    "collapsed": true
   },
   "outputs": [],
   "source": [
    "def propa(ancienne_matrice,nouvelle_matrice,p,i,j):\n",
    "    nouvelle_matrice[i,j] = ancienne_matrice[i,j]\n",
    "    if is_in_fire(ancienne_matrice[i,j]):  # i.e. elle est en feu        \n",
    "        for di in [-1, 0 ,+1]:\n",
    "            for dj in [-1, 0,+1]:\n",
    "                nouvelle_matrice[i +di, j+dj] = ancienne_matrice[i +di,j +dj]\n",
    "                if ancienne_matrice[i +di,j +dj] == 0: # si arbre sain\n",
    "                    h = np.random.binomial(1, p[di+1, dj+1])\n",
    "                    nouvelle_matrice[di +i, dj +j] = h\n",
    "                else :\n",
    "                    nouvelle_matrice[i +di,j +dj] = ancienne_matrice[i +di,j +dj]\n",
    "                ancienne_matrice[i +di,j +dj] = nouvelle_matrice[i +di,j +dj]\n",
    "        nouvelle_matrice[i,j] = ancienne_matrice[i,j] + 0.5\n",
    "    else :\n",
    "        nouvelle_matrice[i,j] = ancienne_matrice[i,j]\n",
    "    ancienne_matrice[i,j] = nouvelle_matrice[i,j]    \n",
    "    return nouvelle_matrice"
   ]
  },
  {
   "cell_type": "code",
   "execution_count": null,
   "metadata": {
    "collapsed": true
   },
   "outputs": [],
   "source": [
    "def propaM(ancienne_matrice,nouvelle_matrice,i,j) :\n",
    "    nouvelle_matrice[i,j] = ancienne_matrice[i,j]\n",
    "    if ancienne_matrice[i,j] == 1:\n",
    "        nouvelle_matrice[i,j] = ancienne_matrice[i,j] +1\n",
    "    ancienne_matrice[i,j] = nouvelle_matrice[i,j]    \n",
    "    return nouvelle_matrice"
   ]
  },
  {
   "cell_type": "code",
   "execution_count": null,
   "metadata": {
    "collapsed": true
   },
   "outputs": [],
   "source": [
    "def filter_proba(p):\n",
    "    p = p ** (T_ref/T)\n",
    "    return p"
   ]
  },
  {
   "cell_type": "code",
   "execution_count": null,
   "metadata": {
    "collapsed": true
   },
   "outputs": [],
   "source": [
    "def affiche_matrice(Matrice):\n",
    "    (n,m) = Matrice.shape\n",
    "    for i in range(2,n-1) :\n",
    "        for j in range(2,m-1) :\n",
    "            if Matrice[i,j] == 0 :\n",
    "                print(\"A\", end=\"\")\n",
    "            elif Matrice[i, j] >= 2 and Matrice[i, j] < 3 :\n",
    "                print(\"F\", end=\"\")\n",
    "            elif Matrice[i, j] >= 3 :\n",
    "                print(\".\", end=\"\")\n",
    "            elif Matrice[i,j] < 0 :\n",
    "                print(\" \",end=\"\")\n",
    "            elif Matrice[i,j] == 1 :\n",
    "                print(\"M\",end=\"\")\n",
    "        print(\"\")"
   ]
  },
  {
   "cell_type": "code",
   "execution_count": null,
   "metadata": {
    "collapsed": true
   },
   "outputs": [],
   "source": [
    "Matrice  = np.zeros((L,L))\n",
    "(long,larg) = Matrice.shape\n",
    "i,j = foyer()\n",
    "case_neutre(Matrice,i,j)\n",
    "def simulation(Matrice):\n",
    "    nb_pas = 30\n",
    "    history = []\n",
    "    history.append(Matrice.copy())\n",
    "    affiche_matrice(Matrice)\n",
    "    print(\"\")\n",
    "    for k in range (nb_pas):\n",
    "        Matrice = next_step(Matrice)\n",
    "        history.append(Matrice.copy())\n",
    "        affiche_matrice(Matrice)\n",
    "        print(\"\")\n",
    "simulation(Matrice)"
   ]
  },
  {
   "cell_type": "code",
   "execution_count": null,
   "metadata": {
    "collapsed": true
   },
   "outputs": [],
   "source": [
    "def simulation(Matrice):\n",
    "    nb_pas = 100\n",
    "    history = []\n",
    "    history.append(Matrice.copy())\n",
    "    affiche_matrice(Matrice)\n",
    "    print(\"\")\n",
    "    for k in range (nb_pas):\n",
    "        Matrice = next_step(Matrice)\n",
    "        history.append(Matrice.copy())\n",
    "        affiche_matrice(Matrice)\n",
    "        print(\"\")\n",
    "    return history"
   ]
  },
  {
   "cell_type": "code",
   "execution_count": null,
   "metadata": {
    "collapsed": true
   },
   "outputs": [],
   "source": [
    "import matplotlib.pyplot as plt\n",
    "import matplotlib.animation as anim\n",
    "from IPython.display import HTML\n",
    "import numpy as np\n",
    "%matplotlib notebook\n",
    "%matplotlib notebook"
   ]
  },
  {
   "cell_type": "code",
   "execution_count": null,
   "metadata": {
    "collapsed": true
   },
   "outputs": [],
   "source": [
    "results = simulation(Matrice)"
   ]
  },
  {
   "cell_type": "code",
   "execution_count": null,
   "metadata": {
    "collapsed": true
   },
   "outputs": [],
   "source": [
    "from matplotlib.colors import ListedColormap, Normalize"
   ]
  },
  {
   "cell_type": "code",
   "execution_count": null,
   "metadata": {
    "collapsed": true
   },
   "outputs": [],
   "source": [
    "colors = [\"blue\",   #bleu (point d'eau)\n",
    "          \"green\",   # vert (arbre sain)\n",
    "          \"red\",  # rouge (arbre en feu)\n",
    "          \"grey\"]    # gris (cendre)\n",
    "cmap = ListedColormap(colors)"
   ]
  },
  {
   "cell_type": "code",
   "execution_count": null,
   "metadata": {
    "collapsed": true
   },
   "outputs": [],
   "source": [
    "import matplotlib.patches as mpatches"
   ]
  },
  {
   "cell_type": "code",
   "execution_count": null,
   "metadata": {
    "collapsed": true
   },
   "outputs": [],
   "source": [
    "couleur_saint = \"green\"\n",
    "couleur_enfeu = \"red\"\n",
    "couleur_cendre = \"grey\"\n",
    "colors = [\"blue\",couleur_saint, couleur_saint,couleur_enfeu, couleur_cendre]\n",
    "cmap = ListedColormap(colors)\n",
    "\n",
    "patch1 = mpatches.Patch(color=couleur_saint, label='saint')\n",
    "patch2 = mpatches.Patch(color=couleur_cendre, label='cendre')\n",
    "patch3 = mpatches.Patch(color=couleur_enfeu, label='enfeu')\n",
    "patch4 = mpatches.Patch(color=\"blue\",label='eau')"
   ]
  },
  {
   "cell_type": "code",
   "execution_count": null,
   "metadata": {
    "collapsed": true
   },
   "outputs": [],
   "source": [
    "fig = plt.figure()\n",
    "norm = Normalize(vmin = -1, vmax = 2, clip = False)\n",
    "im=plt.imshow(results[0], interpolation = 'nearest',\n",
    "              cmap = cmap,\n",
    "              norm = norm)\n",
    "plt.xticks([]), plt.yticks([])\n",
    "plt.title(\"Simulation d'une feu de foret\")\n",
    "plt.legend(handles=[patch1, patch2, patch3,patch4],bbox_to_anchor=(1, 1, 0., 0), loc=\"upper left\")"
   ]
  },
  {
   "cell_type": "code",
   "execution_count": null,
   "metadata": {
    "collapsed": true
   },
   "outputs": [],
   "source": [
    "def update(i):\n",
    "    im.set_array(results[i])\n",
    "    return [im]\n",
    "\n",
    "ani = anim.FuncAnimation(fig, update, interval=300)\n",
    "plt.show()"
   ]
  },
  {
   "cell_type": "code",
   "execution_count": null,
   "metadata": {
    "collapsed": true
   },
   "outputs": [],
   "source": []
  },
  {
   "cell_type": "code",
   "execution_count": null,
   "metadata": {
    "collapsed": true
   },
   "outputs": [],
   "source": []
  },
  {
   "cell_type": "code",
   "execution_count": null,
   "metadata": {
    "collapsed": true
   },
   "outputs": [],
   "source": []
  },
  {
   "cell_type": "code",
   "execution_count": null,
   "metadata": {
    "collapsed": true
   },
   "outputs": [],
   "source": []
  },
  {
   "cell_type": "code",
   "execution_count": null,
   "metadata": {
    "collapsed": true
   },
   "outputs": [],
   "source": []
  }
 ],
 "metadata": {
  "kernelspec": {
   "display_name": "Python 3",
   "language": "python",
   "name": "python3"
  },
  "language_info": {
   "codemirror_mode": {
    "name": "ipython",
    "version": 3
   },
   "file_extension": ".py",
   "mimetype": "text/x-python",
   "name": "python",
   "nbconvert_exporter": "python",
   "pygments_lexer": "ipython3",
   "version": "3.4.1"
  }
 },
 "nbformat": 4,
 "nbformat_minor": 0
}
